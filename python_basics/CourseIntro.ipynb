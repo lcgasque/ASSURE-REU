{
 "cells": [
  {
   "cell_type": "markdown",
   "metadata": {},
   "source": [
    "# Welcome to the Computational Bootcamp for the ASSURE REU\n",
    "\n",
    "This is the first Jupyter notebook in a series that will introduce you to various computational lessons in Python for space sciences. The purpose of this notebook is to introduce you to the tool and computational environment we are using, and to the teaching team that will be joining us for the next few days.\n",
    "\n",
    "**If you have reached this point please raise your virtual hand on Zoom (so that we know you have finished) before moving ahead as a group.** \n",
    "\n",
    "-\n",
    "\n",
    "-\n",
    "\n",
    "-\n",
    "\n",
    "-\n",
    "\n",
    "-\n",
    "\n",
    "-"
   ]
  },
  {
   "cell_type": "markdown",
   "metadata": {},
   "source": [
    "## Part 1. The Schedule and Goals\n",
    "\n",
    "The bootcamp covers two main themes: Python basics and visualization basics. We will then break into small groups for a group project which you get to choose the dataset you wish to analyze.  \n",
    "\n",
    "Before we begin, we want to say we are excited to have you here (yes even virtually)! The goal of this bootcamp is so that you can learn some space science specific computional skills, but also get used to working virtually on research. You are all coming in with various skillsets and levels of experience. You are in this REU because we value what you bring from your experiences, but also because the REU program managers wants to work *with* you! This program isn't designed to test or assess your skillsets, but provide an opportunity for you to explore the professions in space sciences and get hands on experience in research in this field. \n",
    "\n",
    "To prepare you for the summer, this bootcamp then will cover some things which might seem basic and some which most likely you have not seen before. This is designed to provide you a generalized introduction so you can hit the ground running when you begin to work with your mentor. \n",
    "\n",
    "The following is the schedule (remember Berkeley time means events will start 10 minutes later than posted!):\n",
    "\n",
    "<br><span style=\"color:blue\">__Tuesday__ Getting Started with Python</span>\n",
    "\n",
    "__1.00pm - 2.00pm__ - Spacecraft Systems Lecture (Tony Mercer)\n",
    "\n",
    "__2.00pm-2.30pm__ - *** Intro to the Computational Bootcamp! (Abby Azari and the REU teaching team)\n",
    "\n",
    "__2.30pm - 5pm__ - *** Python Programming Lab (Tony Mercer)\n",
    "\n",
    "<br><span style=\"color:blue\">__Wednesday__ Planetary science and Intro to Data Visualization</span>\n",
    "\n",
    "__8.30am__ - Coffee \"Hour\" (Optional)\n",
    "\n",
    "__9am-10am__ - Python Debrief and Office Hour (Optional)\n",
    "\n",
    "__10am-12pm__ - Intro to Planetary Science (Tom Immel and Rob Lillis)\n",
    "\n",
    "__12pm-1pm__ - Lunch Break\n",
    "\n",
    "__1pm-2.30pm__ - Intro to Data Visualization (Abby Azari and Claire Gasque)\n",
    "\n",
    "__2.30pm-5pm__ - *** Data Visualization Lab (Abby Azari)\n",
    "\n",
    "<br><span style=\"color:blue\">__Thursday__ Intro to Space Plasmas and Small Group Projects</span>\n",
    "\n",
    "__8.30am__ - Coffee \"Hour\" (Optional)\n",
    "\n",
    "__9am-11am__ - Intro to Space Plasmas Lecture (Stuart Bale and Phyllis Whittlesey)\n",
    "\n",
    "__11am-5pm__ - Data Visualization Projects (REU Teaching Team)\n",
    "\n",
    "__3pm-4pm__ - Scientific Communication Workshop (Claire Gasque)\n",
    "\n",
    "<br><span style=\"color:blue\">__Friday__ Debrief </span>\n",
    "\n",
    "__8.30am__ - Coffee \"Hour\" (Optional)\n",
    "\n",
    "__9am-10am__ - Project Presentations (REU Teaching Team)\n",
    "\n",
    "*** Signifies that lessons will take place on the hub.\n",
    "\n",
    "\n",
    "-\n",
    "\n",
    "\n",
    "-\n",
    "\n",
    "\n",
    "-\n",
    "\n",
    "-"
   ]
  },
  {
   "cell_type": "markdown",
   "metadata": {},
   "source": [
    "## Part 2. The Teaching Team and How To Get Help\n",
    "\n",
    "Throughout the program we will have one staff person leading the lesson and others in Zoom managing questions. To ask questions please post the question into the Zoom chat window, then one of the assistants for the lesson will either interrupt the leader for you to ask this question, or will respond to you directly. You can also post questions on the Slack.\n",
    "\n",
    "-\n",
    "\n",
    "-\n",
    "\n",
    "-\n",
    "\n",
    "-"
   ]
  },
  {
   "cell_type": "markdown",
   "metadata": {},
   "source": [
    "## Part 3. The \"Hub\" - What is this thing!?\n",
    "\n",
    "We are trying something new right now. What you are in right now is a JupyterHub but that is supported and run through Amazon Web Services. It allows you to explore Python, run your code, and save files. It has been provided generously to our REU program by our colleagues through their 2i2c JupyterHub for Jupyter meets the Earth activities. This is a computational environement specifically designed for the types of activities we are doing in this bootcamp. \n",
    "\n",
    "\n",
    "### Expectations \n",
    "\n",
    "Since this is a shared resource, please be aware of the following:\n",
    "\n",
    "- This resource is used for REU activities only (like completing this bootcamp, or pursuing your REU research). Personal computing, personal file storage, or unrelated to REU buisness computational tasks (e.g. mining bitcoin) are not allowed on this resource.\n",
    "- Accounts are granted through a shared resource, which means you can assume that your activities can be seen at any time by the account managers. \n",
    "\n",
    "If you have questions about any of this, please feel free to ask at any point during the REU.\n",
    "\n",
    "### Demonstration\n",
    "\n",
    "Let me walk through some of the hub abilities at this point so you can see what you can do here and some common issues that might arise. \n",
    "\n",
    "Let's first start with a Python cell and how to run these."
   ]
  },
  {
   "cell_type": "code",
   "execution_count": null,
   "metadata": {},
   "outputs": [],
   "source": [
    "#example python cell \n",
    "\n",
    "print('This is an example Python cell. You evaluate this by pressing \"shift-enter\"')"
   ]
  },
  {
   "cell_type": "markdown",
   "metadata": {},
   "source": [
    "Now we will go through:\n",
    " - how do I make new cells?\n",
    " - how do I toggle between text and code?\n",
    " - what are kernels?\n",
    " - how do I save files?\n",
    " - how do I share my code with collaborators (for student projects)?\n",
    "\n",
    "\n",
    "-\n",
    "\n",
    "-\n",
    "\n",
    "-\n",
    "\n",
    "-"
   ]
  },
  {
   "cell_type": "markdown",
   "metadata": {},
   "source": [
    "## Part 4. What Happens After? \n",
    "\n",
    "At the end of this bootcamp you will still have access to all the materials we cover online at: [github.com/abbyazari/ASSURE-REU](https://www.github.com/abbyazari/ASSURE-REU) or our shared [Google drive](https://drive.google.com/drive/folders/1TUyAjshzbb56qpejpXiIPOZQ4tOJqF8l).\n",
    "\n",
    "Depending on your project, you and your mentor might also want to continue to have access to this hub for computing. We will remind you about this later so that you can either download the files you have saved, or continue using this hub.\n",
    "\n",
    "### What questions do you have? "
   ]
  }
 ],
 "metadata": {
  "kernelspec": {
   "display_name": "Python 3",
   "language": "python",
   "name": "python3"
  },
  "language_info": {
   "codemirror_mode": {
    "name": "ipython",
    "version": 3
   },
   "file_extension": ".py",
   "mimetype": "text/x-python",
   "name": "python",
   "nbconvert_exporter": "python",
   "pygments_lexer": "ipython3",
   "version": "3.7.7"
  }
 },
 "nbformat": 4,
 "nbformat_minor": 4
}
