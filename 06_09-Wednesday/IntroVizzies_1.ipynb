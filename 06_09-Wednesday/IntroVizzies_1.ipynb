{
 "cells": [
  {
   "cell_type": "markdown",
   "metadata": {},
   "source": [
    "# Introduction to Visualization In Action - Part 1\n",
    "\n",
    "Purpose: This notebook will introduce you to various plotting \"packages\" currently supported in the Python ecosystem and to functionalities you normally run into when dealing with space science datasets.\n",
    "\n",
    "\n",
    "## A Quick Review\n",
    "\n",
    "\n",
    "### What is Python and why are we using it?\n",
    "\n",
    "Python is an object oriented programming language. This means it has 'objects' which have certain rules or methods which you can access to run computer programming. We've seen this as we use pandas dataframes (objects) to analyze data. \n",
    "\n",
    "\n",
    "### What is Jupyter?\n",
    "\n",
    "Jupyter is a interactive environment (this \"notebook\") where we can explore how a programming language ie Python works. You can \"run\" various cells at a time by hitting shift-enter OR by hitting run after selecting a cell. \n",
    "\n",
    "To edit a cell: double click. \n",
    "To make a text box cell: use the Cell -> Markdown option\n",
    "\n",
    "## What will we do in this notebook: \n",
    "\n",
    "In this notebook we will be using a solar dataset (related to the sun) to understand long duration time behavior of the sun and it's impact on the Earth. Let's begin!\n",
    "\n",
    "-\n",
    "\n",
    "-\n",
    "\n",
    "-\n",
    "\n",
    "-\n",
    "\n",
    "-"
   ]
  },
  {
   "cell_type": "markdown",
   "metadata": {},
   "source": [
    "## Section 1. The Physics \n",
    "\n",
    "### We will be using solar data to visualize both the sun, and space weather.\n",
    "\n",
    "*What is space weather?*\n",
    "- \"Space-weather events are naturally occurring phenomena that **have the potential to disrupt** electric power systems; satellite, aircraft, and spacecraft operations; telecommunications; position, navigation, and timing services; and other technologies and infrastructures...\" Source - [National Space Weather Action Plan](https://obamawhitehouse.archives.gov/sites/default/files/microsites/ostp/final_nationalspaceweatheractionplan_20151028.pdf)\n",
    "\n",
    "- \"Space weather refers to the **environmental conditions in Earth's magnetosphere (e.g. magnetic environment), ionosphere and thermosphere (e.g. upper atmosphere) due to the Sun and the solar wind** that can influence the functioning and reliability of spaceborne and ground-based systems and services or endanger property or human health.\" Source - [European Space Agency](http://swe.ssa.esa.int/what-is-space-weather)\n",
    "\n",
    "See [video here](./Images/Example_GeoSpaceWeather.mp4) on a geomagnetic storm. \n",
    "\n",
    "<img src=\"./Images/SpaceWeatherNOAA.jpg\" alt=\"Drawing2\" width=\"2000px\"/>\n",
    "\n",
    "Image Source: [NOAA](http://www.noaa.gov/explainers/space-weather-storms-from-sun)"
   ]
  },
  {
   "cell_type": "markdown",
   "metadata": {},
   "source": [
    "## Section 2. Reading in Required Package and Exploring Our Data\n",
    "\n",
    "#### What is Matplotlib?\n",
    "\n",
    "Matplotlib is a package that enables visualization and graphics in Python. While we are using Jupyter to demonstrate this package, we will also be saving figures at publication ready formats so that you can see how to use this in your work. \n",
    "\n",
    "Matplotlib like most other Python packages has amazing documentation online you can check it out at the [documentation](https://matplotlib.org/) online.\n",
    "\n",
    "\n",
    "#### Why are we using these? \n",
    "\n",
    "Matplotlib is the basic plotting package for Python. We will see a few more packages (for geo data and statistical visualization) later. "
   ]
  },
  {
   "cell_type": "code",
   "execution_count": null,
   "metadata": {},
   "outputs": [],
   "source": [
    "import matplotlib.pyplot as plt  #for basic plotting\n",
    "\n",
    "import pandas as pd              #for analyzing/reading data\n",
    "import numpy  as np              #for analyzing/reading data\n",
    "\n",
    "\n",
    "import matplotlib.image as mpimg #for reading image data"
   ]
  },
  {
   "cell_type": "code",
   "execution_count": null,
   "metadata": {},
   "outputs": [],
   "source": [
    "#Let's start by looking by exploring what the sun looks like"
   ]
  },
  {
   "cell_type": "code",
   "execution_count": null,
   "metadata": {},
   "outputs": [],
   "source": [
    "\n",
    "#this is a built in function for reading image data\n",
    "quietSun  = mpimg.imread('./Data/SolarMinImages/20180105_022906_512_0304.jpg')\n",
    "activeSun = mpimg.imread('./Data/SolarMaxImages/20130317_044532_512_0304.jpg')\n"
   ]
  },
  {
   "cell_type": "code",
   "execution_count": null,
   "metadata": {},
   "outputs": [],
   "source": [
    "#now let's quickly take a look at them\n",
    "\n",
    "plt.imshow(quietSun) #this is a quick way to look at image data"
   ]
  },
  {
   "cell_type": "code",
   "execution_count": null,
   "metadata": {},
   "outputs": [],
   "source": [
    "plt.imshow(activeSun)"
   ]
  },
  {
   "cell_type": "markdown",
   "metadata": {},
   "source": [
    "### Activity: \n",
    "\n",
    "These images are taken from the Solar Dynamics Observatory. The first one is from 2013 and the second from 2018. Why do you think these are different? I'm going to put you in a Zoom room for a short time to quickly disucss with your neighbor about what you think might be different.\n",
    "\n",
    "-\n",
    "\n",
    "-\n",
    "\n",
    "-\n",
    "\n",
    "-\n"
   ]
  },
  {
   "cell_type": "markdown",
   "metadata": {},
   "source": [
    "## Section 3. Load More Data \n",
    "\n",
    "We now have a qualitative understanding that the sun has different behaivor through time. Let's look at more quantitative measures of this.\n",
    "\n",
    "We are going to read in OMNI data, which is a composite dataset made of many different measurements we use to understand solar impacts on Earth's space environment. \n",
    "\n",
    "Feel free to go ahead and look in the ./Data/OMNI/ folder at one of the .lst files. This is a text file with various information that we want to use. \n",
    "\n",
    "But how will we read this in? \n",
    "\n",
    "Yesterday we were introduced to pd.read_csv(), today we are going to see what else we can do with this command."
   ]
  },
  {
   "cell_type": "code",
   "execution_count": null,
   "metadata": {},
   "outputs": [],
   "source": [
    "#reading in OMNI data\n",
    "\n",
    "#our definition of the column names \n",
    "colNames = ['YEAR', 'DOY', 'Hour', 'BX', 'BY', 'BZ', 'FlowPressure', 'Ey', 'Kp', \n",
    "            'SunspotNumber', 'Dst', 'f10.7_index']\n",
    "\n",
    "#here we read the hour cadence of omni data, declare the seperation to be any combination of spaces, \n",
    "#the names of the columns to be the ones we defined above, and the dates to be the first three columns\n",
    "hourOmni = pd.read_csv('./Data/OMNI/omni2_Hourly1980_2018.lst', sep = '\\s+', names = colNames,\n",
    "                          parse_dates = {'Datetime': colNames[0:3]}, keep_date_col = 'True')\n",
    "\n",
    "#here we are redefining the index to be a datetime index\n",
    "hourOmni.index = pd.to_datetime(hourOmni['Datetime'], infer_datetime_format = False, \n",
    "                                   format = '%Y %j %H')\n"
   ]
  },
  {
   "cell_type": "markdown",
   "metadata": {},
   "source": [
    "So that was a hefty command. Let's look at what reading this WITHOUT this fancy command looks like."
   ]
  },
  {
   "cell_type": "code",
   "execution_count": null,
   "metadata": {},
   "outputs": [],
   "source": [
    "hourOmniBasic = pd.read_csv('./Data/OMNI/omni2_Hourly1980_2018.lst') #read in without fancy cleaning"
   ]
  },
  {
   "cell_type": "code",
   "execution_count": null,
   "metadata": {},
   "outputs": [],
   "source": [
    "print(hourOmniBasic.head())"
   ]
  },
  {
   "cell_type": "code",
   "execution_count": null,
   "metadata": {},
   "outputs": [],
   "source": [
    "print(hourOmni.head())"
   ]
  },
  {
   "cell_type": "markdown",
   "metadata": {},
   "source": [
    "One of the things we also changed was the index. Let's take a look at those."
   ]
  },
  {
   "cell_type": "code",
   "execution_count": null,
   "metadata": {},
   "outputs": [],
   "source": [
    "print(hourOmniBasic.index)"
   ]
  },
  {
   "cell_type": "code",
   "execution_count": null,
   "metadata": {},
   "outputs": [],
   "source": [
    "print(hourOmni.index)"
   ]
  },
  {
   "cell_type": "code",
   "execution_count": null,
   "metadata": {},
   "outputs": [],
   "source": [
    "#if you ever want to know MORE about a function you can find more information through google \n",
    "#but also in built like this -\n",
    "\n",
    "help(pd.read_csv)"
   ]
  },
  {
   "cell_type": "markdown",
   "metadata": {},
   "source": [
    "### Discussion: Do you see the difference between the two versions of reading in this file?\n",
    "\n",
    "-\n",
    "\n",
    "-\n",
    "\n",
    "-\n",
    "\n",
    "-"
   ]
  },
  {
   "cell_type": "markdown",
   "metadata": {},
   "source": [
    "## Section 4. Clean the data\n",
    "\n",
    "Sometimes in real datasets we will have missing or replaced values. In the OMNI dataset they replace missing data with strings of 9. For example:"
   ]
  },
  {
   "cell_type": "code",
   "execution_count": null,
   "metadata": {},
   "outputs": [],
   "source": [
    "hourOmni.tail() #notice how I didn't write print here? This is specific to Jupyter notebooks\n",
    "                #some commands will print into the notebook without you having to SPECIFICALLY \n",
    "                #tell it to print the output"
   ]
  },
  {
   "cell_type": "markdown",
   "metadata": {},
   "source": [
    "When we analyze this data we DON'T want various values of 9 to be cluttering averages or plots. One way to handle this is by replacing these values with nan's or (not a number)."
   ]
  },
  {
   "cell_type": "code",
   "execution_count": null,
   "metadata": {},
   "outputs": [],
   "source": [
    "hourOmni.replace(to_replace = [99, 99.9, 99.99, 999, 999.9, 999.99], value = np.nan, inplace = True)"
   ]
  },
  {
   "cell_type": "code",
   "execution_count": null,
   "metadata": {},
   "outputs": [],
   "source": [
    "hourOmni #now let's see what this dataset looks like"
   ]
  },
  {
   "cell_type": "markdown",
   "metadata": {},
   "source": [
    "### Discussion: What questions do you have on this?\n",
    "\n",
    "-\n",
    "\n",
    "-\n",
    "\n",
    "-\n",
    "\n",
    "-"
   ]
  },
  {
   "cell_type": "markdown",
   "metadata": {},
   "source": [
    "## Section 5. Plotting\n",
    "\n",
    "Now that our data is ready to look at let's get started on some more serious visualizations."
   ]
  },
  {
   "cell_type": "code",
   "execution_count": null,
   "metadata": {},
   "outputs": [],
   "source": [
    "#first let's start with the most basic of plots\n",
    "plt.plot(hourOmni.index, hourOmni.SunspotNumber)"
   ]
  },
  {
   "cell_type": "markdown",
   "metadata": {},
   "source": [
    "Here we are looking at how many sunspots are on the sun over time. The more active pictures from Solar Dynamics Observatory we saw before tend to correlate to more sunspots on the sun. For example we were looking at 2013 and 2018, a time when the sun was very active, and a time when it was not.\n",
    "\n",
    "This isn't a very engaging plot however, not to mention is missing a title. Let's spend some time cleaning this up."
   ]
  },
  {
   "cell_type": "code",
   "execution_count": null,
   "metadata": {},
   "outputs": [],
   "source": [
    "#This wraps our plot above into a more generic format\n",
    "\n",
    "fig = plt.figure() #make a figure template\n",
    "fig.suptitle('Long Duration Solar Behavior', fontsize = 20) #add a title and specific what SIZE the font should be\n",
    "\n",
    "#set up titles for axis\n",
    "plt.xlabel('Year',               fontsize = 20)\n",
    "plt.ylabel('Number of Sunspots', fontsize = 20)\n",
    "\n",
    "plt.plot(hourOmni.index, hourOmni.SunspotNumber, color = 'grey', lw = 2.0) #make the color grey and linewidth 2\n",
    "\n",
    "#add a grid\n",
    "plt.grid(color='gray', linestyle='dashed')\n",
    "\n",
    "#let's make the fontsize of the ticks the same\n",
    "plt.tick_params(labelsize = 14)\n"
   ]
  },
  {
   "cell_type": "markdown",
   "metadata": {},
   "source": [
    "This is one way of plotting in matplotlib. One of the very confusing parts of learning Python is that there are often many ways of doing exactly the same thing. Let me show you another way to generate the exact same plot but now with using \"axes\" and \"subplots\"."
   ]
  },
  {
   "cell_type": "code",
   "execution_count": null,
   "metadata": {},
   "outputs": [],
   "source": [
    "fig = plt.figure() #make a figure template\n",
    "\n",
    "fig.suptitle('Long Duration Solar Behavior', fontsize = 20) #add a title and specific what SIZE the font should be\n",
    "ax  = fig.add_subplot() #NEW - add a subplot called ax (for axes)\n",
    "    \n",
    "#set up titles for axis\n",
    "ax.set_xlabel('Year',               fontsize = 20) #notice now we are using ax instead of plt?\n",
    "ax.set_ylabel('Number of Sunspots', fontsize = 20)\n",
    "\n",
    "ax.plot(hourOmni.index, hourOmni.SunspotNumber, color = 'grey', lw = 2.0) #make the color grey and linewidth 2\n",
    "\n",
    "#add a grid\n",
    "ax.grid(color='gray', linestyle='dashed')\n",
    "\n",
    "#let's make the fontsize of the ticks the same\n",
    "ax.tick_params(labelsize = 14)\n"
   ]
  },
  {
   "cell_type": "markdown",
   "metadata": {},
   "source": [
    "### Discussion: Let's pause here, why do you think it might be advantageous to use a different way to plot something if it's going to result in the same end figure?\n",
    "\n",
    "-\n",
    "\n",
    "-\n",
    "\n",
    "-\n",
    "\n",
    "-\n",
    "\n",
    "-\n",
    "\n",
    "-\n",
    "\n",
    "-"
   ]
  },
  {
   "cell_type": "markdown",
   "metadata": {},
   "source": [
    "## Section 6. Plotting - Leaning Into Axes\n",
    "\n",
    "Let's see what some other things using axes in this way enables."
   ]
  },
  {
   "cell_type": "code",
   "execution_count": null,
   "metadata": {},
   "outputs": [],
   "source": [
    "fig = plt.figure() #make a figure template\n",
    "\n",
    "fig.suptitle('Long Duration Solar Behavior', fontsize = 20) #add a title and specific what SIZE the font should be\n",
    "ax1  = fig.add_subplot() \n",
    "ax2  = ax1.twinx() #here we are making a NEW axes that is shares the x axes\n",
    "    \n",
    "#set up titles for axis\n",
    "ax1.set_xlabel('Year',               fontsize = 20) #Now we set titles of all the axes\n",
    "ax1.set_ylabel('Number of Sunspots', fontsize = 20, color = 'grey')\n",
    "ax2.set_ylabel('f10.7 Standard Flux Units (sfu)', fontsize = 20, color = '#983b59', labelpad = 20, \n",
    "               rotation = 270) #note we added color a labelpad, and rotated the axes\n",
    "\n",
    "\n",
    "ax1.plot(hourOmni.index, hourOmni.SunspotNumber, color = 'grey',    lw = 2.0) #make the color grey and linewidth 2\n",
    "ax2.scatter(hourOmni.index, hourOmni.SunspotNumber, color = '#983b59', \n",
    "         alpha = 0.3, s = 0.2) #make the color redish, a scatter plot, and slightly transparent (alpha)\n",
    "                               #you can find more hex code colors (the #number format) at color-hex.com\n",
    "\n",
    "#add a grid\n",
    "ax1.grid(color='gray', linestyle='dashed')\n",
    "\n",
    "#let's make the fontsize of the ticks the same\n",
    "ax1.tick_params(labelsize = 14)\n",
    "ax2.tick_params(labelsize = 14)\n"
   ]
  },
  {
   "cell_type": "markdown",
   "metadata": {},
   "source": [
    "### Discussion: What questions do you have about this?\n",
    "\n",
    "-\n",
    "\n",
    "-\n",
    "\n",
    "-\n",
    "\n",
    "-\n",
    "\n",
    "-\n"
   ]
  },
  {
   "cell_type": "markdown",
   "metadata": {},
   "source": [
    "### Section 7. Saving Figures \n",
    "\n",
    "Now if we want to save it, say for a report to your mentor we need to consider a few things. \n",
    "\n",
    "First the resolution of the figure (how clear it will look) and its size. Let's try some different things here. "
   ]
  },
  {
   "cell_type": "code",
   "execution_count": null,
   "metadata": {},
   "outputs": [],
   "source": [
    "fig = plt.figure(figsize = (10, 7)) #make a figure template, note we now have a size\n",
    "\n",
    "fig.suptitle('Long Duration Solar Behavior', fontsize = 20) #add a title and specific what SIZE the font should be\n",
    "ax1  = fig.add_subplot() \n",
    "ax2  = ax1.twinx() #here we are making a NEW axes that is shares the x axes\n",
    "    \n",
    "#set up titles for axis\n",
    "ax1.set_xlabel('Year',               fontsize = 20) #Now we set titles of all the axes\n",
    "ax1.set_ylabel('Number of Sunspots', fontsize = 20, color = 'grey')\n",
    "ax2.set_ylabel('f10.7 Standard Flux Units (sfu)', fontsize = 20, color = '#983b59', labelpad = 20, \n",
    "               rotation = 270) #note we added color a labelpad, and rotated the axes\n",
    "\n",
    "\n",
    "ax1.plot(hourOmni.index, hourOmni.SunspotNumber, color = 'grey',    lw = 2.0) #make the color grey and linewidth 2\n",
    "ax2.scatter(hourOmni.index, hourOmni.SunspotNumber, color = '#983b59', \n",
    "         alpha = 0.3, s = 0.2) #make the color redish, a scatter plot, and slightly transparent (alpha)\n",
    "                               #you can find more hex code colors (the #number format) at color-hex.com\n",
    "\n",
    "#add a grid\n",
    "ax1.grid(color='gray', linestyle='dashed')\n",
    "\n",
    "#let's make the fontsize of the ticks the same\n",
    "ax1.tick_params(labelsize = 14)\n",
    "ax2.tick_params(labelsize = 14)"
   ]
  },
  {
   "cell_type": "markdown",
   "metadata": {},
   "source": [
    "Let's now see some saving options. "
   ]
  },
  {
   "cell_type": "code",
   "execution_count": null,
   "metadata": {},
   "outputs": [],
   "source": [
    "fig.savefig('ExampleFig_Basic.png') #generic save as an image\n",
    "\n",
    "fig.savefig('ExampleFig_HighRes.png', dpi = 300) #save as a high resolution image (dpi = 300 is usually a good lower limit)\n",
    "\n",
    "fig.savefig('ExampleFig_Vector.pdf') #save as a vectorized (i.e. resolution is meaningless) pdf"
   ]
  },
  {
   "cell_type": "markdown",
   "metadata": {},
   "source": [
    "### Discussion: Let's take a look at the figures we just saved (download and open, or open by double clicking) and discuss some trade offs.\n",
    "\n",
    "-\n",
    "\n",
    "-\n",
    "\n",
    "-\n",
    "\n",
    "-\n",
    "\n",
    "-\n"
   ]
  },
  {
   "cell_type": "markdown",
   "metadata": {},
   "source": [
    "Next we will move to an activity in IntroVizzies_2.ipynb"
   ]
  },
  {
   "cell_type": "code",
   "execution_count": null,
   "metadata": {},
   "outputs": [],
   "source": []
  }
 ],
 "metadata": {
  "kernelspec": {
   "display_name": "Python 3",
   "language": "python",
   "name": "python3"
  },
  "language_info": {
   "codemirror_mode": {
    "name": "ipython",
    "version": 3
   },
   "file_extension": ".py",
   "mimetype": "text/x-python",
   "name": "python",
   "nbconvert_exporter": "python",
   "pygments_lexer": "ipython3",
   "version": "3.7.7"
  }
 },
 "nbformat": 4,
 "nbformat_minor": 4
}
