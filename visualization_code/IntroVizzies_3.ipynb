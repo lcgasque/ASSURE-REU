{
 "cells": [
  {
   "cell_type": "markdown",
   "metadata": {},
   "source": [
    "# Introduction to Visualization In Action - Part 3\n",
    "\n",
    "\n",
    "## What will we do in this notebook: \n",
    "\n",
    "So far we've seen matplotlib's functionality as a plotting package. Now we are going to explore more of the Python plotting ecosytem. Will be using elevation data that represents Mars' surface in this lab to demonstrate various additional plotting. \n",
    "\n",
    "-\n",
    "\n",
    "-\n",
    "\n",
    "-\n",
    "\n",
    "-\n",
    "\n",
    "-"
   ]
  },
  {
   "cell_type": "markdown",
   "metadata": {},
   "source": [
    "## Section 1. Read in Data \n",
    "\n",
    "The following data files are in a new format. These are \"sav\" files from a commonly used programming language called IDL. It is likely that some of your project will need to use these IDL specific files. These data files are specifically from the MAVEN suite of tools which can be found [online](https://lasp.colorado.edu/maven/sdc/public/pages/software.html).\n",
    "\n",
    "Luckily there is a function in Python that let's us read and use these files called readsav."
   ]
  },
  {
   "cell_type": "code",
   "execution_count": null,
   "metadata": {},
   "outputs": [],
   "source": [
    "from scipy.io import readsav #for data reading\n",
    "\n",
    "import matplotlib.pyplot as plt\n",
    "import numpy as np"
   ]
  },
  {
   "cell_type": "code",
   "execution_count": null,
   "metadata": {},
   "outputs": [],
   "source": [
    "exampleRead = readsav('./Data/MarsTopo/lat.sav')"
   ]
  },
  {
   "cell_type": "code",
   "execution_count": null,
   "metadata": {},
   "outputs": [],
   "source": [
    "print(exampleRead)"
   ]
  },
  {
   "cell_type": "code",
   "execution_count": null,
   "metadata": {},
   "outputs": [],
   "source": [
    "print(type(exampleRead))"
   ]
  },
  {
   "cell_type": "markdown",
   "metadata": {},
   "source": [
    "### Discussion: Why do you think it's useful to print the 'type' as well like we just did? \n",
    "\n",
    "-\n",
    "\n",
    "-\n",
    "\n",
    "-\n",
    "\n",
    "-\n",
    "\n",
    "-"
   ]
  },
  {
   "cell_type": "markdown",
   "metadata": {},
   "source": [
    "## Section 2. Read in the Data \n",
    "\n",
    "Let's make things a littler easier on us by defining a function to read the data we need. "
   ]
  },
  {
   "cell_type": "code",
   "execution_count": null,
   "metadata": {},
   "outputs": [],
   "source": [
    "\n",
    "def readTopo():\n",
    "    '''\n",
    "    Reads topo data from stored .sav files.\n",
    "    \n",
    "    Resolution currenly at 0.2 degrees lon x lat.\n",
    "    '''\n",
    "\n",
    "    #a sav file is an IDL specific file...common in space physics\n",
    "    lat = readsav('./Data/MarsTopo/lat.sav')\n",
    "\n",
    "    lat = lat['lat']\n",
    "\n",
    "    lon = readsav('./Data/MarsTopo/elon.sav')\n",
    "\n",
    "    lon = lon['elon']\n",
    "\n",
    "    alt = readsav('./Data/MarsTopo/alt_topo_ell.sav')\n",
    "\n",
    "    alt = alt['alt_topo_ell']*-1 #reversing scale \n",
    "    \n",
    "    return(lon, lat, alt)\n",
    "    "
   ]
  },
  {
   "cell_type": "code",
   "execution_count": null,
   "metadata": {},
   "outputs": [],
   "source": [
    "#using our function to get our data\n",
    "\n",
    "lon, lat, alt = readTopo()"
   ]
  },
  {
   "cell_type": "code",
   "execution_count": null,
   "metadata": {},
   "outputs": [],
   "source": [
    "#let's take a look at these datasets\n",
    "\n",
    "print(type(lat))\n",
    "print(type(lon))\n",
    "print(type(alt))\n",
    "\n",
    "print(lat.shape)\n",
    "print(lon.shape)\n",
    "print(alt.shape)"
   ]
  },
  {
   "cell_type": "markdown",
   "metadata": {},
   "source": [
    "This is a \"gridded\" data product, each altitude value corresponds to a specific latitude and longitude as you can see by the dimensions printed above.\n",
    "\n",
    "There are a few ways to look at data like this with the basic matplotlib like we've seen before, for example with pcolormesh. "
   ]
  },
  {
   "cell_type": "code",
   "execution_count": null,
   "metadata": {},
   "outputs": [],
   "source": [
    "plt.pcolormesh(alt, cmap = 'YlOrRd') #you can find more color maps at \n",
    "                                     #https://matplotlib.org/stable/tutorials/colors/colormaps.html"
   ]
  },
  {
   "cell_type": "markdown",
   "metadata": {},
   "source": [
    "### Discussion: Let's pause here. What might be some potential issues (accuracy and aesthetics both) with the above plot? \n",
    "\n",
    "-\n",
    "\n",
    "-\n",
    "\n",
    "-\n",
    "\n",
    "-\n",
    "\n",
    "-"
   ]
  },
  {
   "cell_type": "markdown",
   "metadata": {},
   "source": [
    "## Section 3. Let's explore some other useful packages\n",
    "\n",
    "Seaborn is a generally useful plotting package that allows you to do statistical visualizations and wraps much of matplotlib's functionality. Find out more [online](https://seaborn.pydata.org/index.html). Seaborn often combines statistical analyses with plotting so make sure to read the documentation about this package when using it to understand what exactly is being plotted. \n"
   ]
  },
  {
   "cell_type": "code",
   "execution_count": null,
   "metadata": {},
   "outputs": [],
   "source": [
    "### Now it can be imported\n",
    "\n",
    "import seaborn as sns\n",
    "\n",
    "sns.heatmap(alt)\n",
    "\n"
   ]
  },
  {
   "cell_type": "markdown",
   "metadata": {},
   "source": [
    "You can see we have similar issues with matplotlib as with seaborn in terms of gridding and projections of our dataset. Let's try some packages specifically made for geographic data.\n",
    "\n",
    "We will use cartopy next. Cartopy is a way to visualize geographic data. This often include functions regarding projections that intersect with matplotlib. Find out more about cartopy [online](https://scitools.org.uk/cartopy/docs/latest/). "
   ]
  },
  {
   "cell_type": "code",
   "execution_count": null,
   "metadata": {},
   "outputs": [],
   "source": [
    "import cartopy.crs as ccrs"
   ]
  },
  {
   "cell_type": "code",
   "execution_count": null,
   "metadata": {},
   "outputs": [],
   "source": [
    "ax = plt.axes(projection=ccrs.PlateCarree()) #project onto flat surface\n",
    "ax.pcolormesh(lon, lat, alt, transform = ccrs.PlateCarree(), cmap = 'YlOrRd') #use transformation from flat surface\n"
   ]
  },
  {
   "cell_type": "code",
   "execution_count": null,
   "metadata": {},
   "outputs": [],
   "source": [
    "\n",
    "ax = plt.axes(projection=ccrs.Orthographic()) #project onto globe\n",
    "ax.pcolormesh(lon, lat, alt, transform = ccrs.PlateCarree(), cmap = 'YlOrRd') #use transformation from flat surface\n",
    "\n",
    "#notice it's a little tricky in terms of projection syntax"
   ]
  },
  {
   "cell_type": "markdown",
   "metadata": {},
   "source": [
    "### Discussion: What do you notice that is different from these projections and the previous ones in seaborn and matplotlib?\n",
    "\n",
    "-\n",
    "\n",
    "-\n",
    "\n",
    "-\n",
    "\n",
    "-\n",
    "\n",
    "-"
   ]
  },
  {
   "cell_type": "markdown",
   "metadata": {},
   "source": [
    "# Section 4. Interactive Plotting\n",
    "\n",
    "Cartopy is often what you will use if doing projections. The syntax usually \"adds\" to matplotlib's by incuding more keywords or other transformation as we just saw. However, when you want to explore a more global view, it can be helpful to have 3D visualization potential. We are going to now move into creating an interactive globe of Mars. For this we will use a new package, plotly (find more information [online](https://plotly.com/)) which is designed for interactive visualizations. "
   ]
  },
  {
   "cell_type": "markdown",
   "metadata": {},
   "source": [
    "Unlike cartopy, seaborn, and matplotlib, plotly's syntax begins to diverge significantly from what you've seen before. There are quite a few ways to interact with plotly. Let's start with something basic before going into the Mars' applications. "
   ]
  },
  {
   "cell_type": "code",
   "execution_count": null,
   "metadata": {},
   "outputs": [],
   "source": [
    "#this is one of the basic plotly examples of a scatter plot\n",
    "\n",
    "import plotly.graph_objects as go\n",
    "\n",
    "fig = go.Figure(data=go.Scatter(x=[1, 2, 3, 4], y=[10, 11, 12, 13], mode='markers', marker=dict(size=[40, 60, 80, 100],\n",
    "                color=[0, 1, 2, 3])))\n",
    "\n"
   ]
  },
  {
   "cell_type": "code",
   "execution_count": null,
   "metadata": {},
   "outputs": [],
   "source": [
    "fig.write_html('BasicPlotly.html', include_plotlyjs=\"cdn\")"
   ]
  },
  {
   "cell_type": "markdown",
   "metadata": {},
   "source": [
    "### Discussion: Explore the previous plot by opening it in your file directory (you will see a new file named BasicPlotly, right click and select to open in a new browser tab).\n",
    "\n",
    "### What questions do you have about some of the differences between plotly and other plotting packages?\n",
    "\n",
    "-\n",
    "\n",
    "-\n",
    "\n",
    "-\n",
    "\n",
    "-\n",
    "\n",
    "-\n",
    "\n",
    "-"
   ]
  },
  {
   "cell_type": "markdown",
   "metadata": {},
   "source": [
    "## Section 5. Global Interactive Plotting\n",
    "\n",
    "Unfortunately, the projections that we could use in cartopy are not supported in plotly so we need to define a few functions ourselves ([reference source](https://nordicesmhub.github.io/deep_python/))."
   ]
  },
  {
   "cell_type": "code",
   "execution_count": null,
   "metadata": {},
   "outputs": [],
   "source": [
    "def degree2radians(degree):\n",
    "    #convert degrees to radians\n",
    "    return degree*np.pi/180\n",
    "\n",
    "def mapping_map_to_sphere(lon, lat, radius=1):\n",
    "    #this function maps the points of coords (lon, lat) to points onto the  sphere of radius radius\n",
    "    \n",
    "    lon=np.array(lon, dtype=np.float64)\n",
    "    lat=np.array(lat, dtype=np.float64)\n",
    "    lon=degree2radians(lon)\n",
    "    lat=degree2radians(lat)\n",
    "    xs=radius*np.cos(lon)*np.cos(lat)\n",
    "    ys=radius*np.sin(lon)*np.cos(lat)\n",
    "    zs=radius*np.sin(lat)\n",
    "    return xs, ys, zs"
   ]
  },
  {
   "cell_type": "code",
   "execution_count": null,
   "metadata": {},
   "outputs": [],
   "source": [
    "#we are going to take every second data point so we don't have to wait forever\n",
    "#for these plots to render, you can bump this up if you want, just remove the [::2]\n",
    "lon = lon[::2]\n",
    "lat = lat[::2]\n",
    "alt = alt[::2, ::2]\n",
    "\n",
    "#we now make a grid of the data\n",
    "clon, clat = np.meshgrid(lon, lat)\n",
    "\n",
    "#see how these are now all the same dimensions?\n",
    "print(clon.shape, clat.shape, alt.shape)"
   ]
  },
  {
   "cell_type": "code",
   "execution_count": null,
   "metadata": {},
   "outputs": [],
   "source": [
    "\n",
    "#actual Mars in 3D...if you want 'flat' mars change radius to 1\n",
    "#transforms to spherical\n",
    "X_elev, Y_elev, Z_elev = mapping_map_to_sphere(clon, clat, radius = (1000+(alt)))\n",
    "\n",
    "\n",
    "#create elevation surface\n",
    "elevationSurf = go.Surface(x=X_elev, y=Y_elev, z=Z_elev, colorscale='Brwnyl_r',\n",
    "                               surfacecolor = (alt))"
   ]
  },
  {
   "cell_type": "markdown",
   "metadata": {},
   "source": [
    "We still haven't plotted anything yet. This requires we have to now make a figure."
   ]
  },
  {
   "cell_type": "code",
   "execution_count": null,
   "metadata": {},
   "outputs": [],
   "source": [
    "#make figure\n",
    "fig = go.Figure([elevationSurf])\n"
   ]
  },
  {
   "cell_type": "code",
   "execution_count": null,
   "metadata": {},
   "outputs": [],
   "source": [
    "#show figure\n",
    "fig.write_html('BasicMarsPlotly.html', include_plotlyjs=\"cdn\")"
   ]
  },
  {
   "cell_type": "markdown",
   "metadata": {},
   "source": [
    "### Discussion: Open this new file as we did before (right click, open in new browser tab). What do we think could improve this figure? How can we refine this?\n",
    "\n",
    "-\n",
    "\n",
    "-\n",
    "\n",
    "-\n",
    "\n",
    "-\n",
    "\n",
    "-\n",
    "\n",
    "-\n",
    "\n",
    "-"
   ]
  },
  {
   "cell_type": "markdown",
   "metadata": {},
   "source": [
    "## Section 6. Refining Mini Mars\n",
    "\n",
    "Let's remove some of the clutter and add some labels."
   ]
  },
  {
   "cell_type": "code",
   "execution_count": null,
   "metadata": {},
   "outputs": [],
   "source": [
    "lon, lat, alt = readTopo() # re-read the data in, this time let's not subset the data\n",
    "\n",
    "#keep every third data point to increase run time - you can remove [::3] to obtain higher resolution\n",
    "lon = lon[::3]\n",
    "lat = lat[::3]\n",
    "alt = alt[::3, ::3]\n",
    "\n",
    "#we now make a grid of the data\n",
    "clon, clat = np.meshgrid(lon, lat)\n",
    "\n",
    "\n",
    "#making a new background\n",
    "noaxis=dict(showbackground=False, showgrid=False, showline=False, showticklabels=False,\n",
    "            ticks='', title='', zeroline=False)\n",
    "\n",
    "\n",
    "layout = go.Layout(title=\"Mars' Elevation\",\n",
    "                    scene = dict(\n",
    "                    xaxis = noaxis,\n",
    "                    yaxis = noaxis,\n",
    "                    zaxis = noaxis,\n",
    "                    camera=dict(eye=dict(x=-1.5, y=0, z=0.2))))\n"
   ]
  },
  {
   "cell_type": "code",
   "execution_count": null,
   "metadata": {},
   "outputs": [],
   "source": [
    "#map to sphere\n",
    "X_elev, Y_elev, Z_elev = mapping_map_to_sphere(clon, clat, radius = (1000+(alt)))\n",
    "\n",
    "\n",
    "#create elevation surface\n",
    "elevationSurf = go.Surface(x=X_elev, y=Y_elev, z=Z_elev, colorscale='Brwnyl_r',\n",
    "                               surfacecolor = (alt), hoverinfo='skip',\n",
    "                               colorbar = dict(title = dict(text = 'Elevation (km) \\n', side = 'top')))"
   ]
  },
  {
   "cell_type": "code",
   "execution_count": null,
   "metadata": {},
   "outputs": [],
   "source": [
    "#Instead of showing the figure we are going to save it and see how it looks as a .html file\n",
    "\n",
    "fig = go.Figure([elevationSurf], layout=layout)\n"
   ]
  },
  {
   "cell_type": "code",
   "execution_count": null,
   "metadata": {},
   "outputs": [],
   "source": [
    "#this cell will take some time to run\n",
    "fig.write_html('MarsElevationExample.html', include_plotlyjs=\"cdn\")"
   ]
  },
  {
   "cell_type": "markdown",
   "metadata": {},
   "source": [
    "### Activity: Check out this new file as we did with the previous plotly files. \n",
    "\n",
    "### Take some time to rerun this section with different colorscales (find them [here](https://plotly.com/python/builtin-colorscales/)). You can also check out different resolutions (remove [::3] after reading in the data). What else might you change in this figure?"
   ]
  },
  {
   "cell_type": "code",
   "execution_count": null,
   "metadata": {},
   "outputs": [],
   "source": []
  }
 ],
 "metadata": {
  "kernelspec": {
   "display_name": "Python 3",
   "language": "python",
   "name": "python3"
  },
  "language_info": {
   "codemirror_mode": {
    "name": "ipython",
    "version": 3
   },
   "file_extension": ".py",
   "mimetype": "text/x-python",
   "name": "python",
   "nbconvert_exporter": "python",
   "pygments_lexer": "ipython3",
   "version": "3.7.7"
  }
 },
 "nbformat": 4,
 "nbformat_minor": 4
}
